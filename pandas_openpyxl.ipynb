{
 "cells": [
  {
   "cell_type": "code",
   "execution_count": 2,
   "metadata": {},
   "outputs": [],
   "source": [
    "import pandas as pd\n",
    "import openpyxl as op\n",
    "\n",
    "\n",
    "def excel_range_to_indices(range_str):\n",
    "    # Convert Excel-style range (e.g., 'A1:B2') to a pair of index tuples (start_row, start_col, end_row, end_col)\n",
    "    start_cell, end_cell = range_str.split(':')\n",
    "    start_row, start_col = op.utils.cell.coordinate_to_tuple(start_cell)\n",
    "    end_row, end_col = op.utils.cell.coordinate_to_tuple(end_cell)\n",
    "    return start_row-1, start_col-1, end_row-1, end_col-1"
   ]
  },
  {
   "cell_type": "code",
   "execution_count": 3,
   "metadata": {},
   "outputs": [
    {
     "data": {
      "text/plain": [
       "(0, 0, 19, 3)"
      ]
     },
     "execution_count": 3,
     "metadata": {},
     "output_type": "execute_result"
    }
   ],
   "source": [
    "excel_range_to_indices('A1:D20')"
   ]
  },
  {
   "cell_type": "code",
   "execution_count": 4,
   "metadata": {},
   "outputs": [
    {
     "name": "stdout",
     "output_type": "stream",
     "text": [
      "Extracted data as 2D array:\n",
      "[[1.0], [2.0], [3.0], [4.0], [5.0], [6.0], [7.0], [8.0], [9.0], [10.0], [11.0], [12.0]]\n"
     ]
    }
   ],
   "source": [
    "# Load the entire Excel file\n",
    "excel_file = pd.ExcelFile(\"./Lab Data/sn excel sheet.xlsx\")\n",
    "\n",
    "# Load the specific sheet into a DataFrame\n",
    "sheet_name = 'Main'  # Replace with your actual sheet name\n",
    "df = pd.read_excel(excel_file, sheet_name=sheet_name)\n",
    "\n",
    "# Specify the Excel range\n",
    "excel_range = 'C3:C14'  # Replace with your desired range\n",
    "\n",
    "# Convert the range to DataFrame index\n",
    "start_row, start_col, end_row, end_col = excel_range_to_indices(excel_range)\n",
    "\n",
    "# Extract the specified range of data using iloc\n",
    "subset_df = df.iloc[start_row:end_row+1, start_col:end_col+1]\n",
    "\n",
    "# Convert the subset DataFrame to a 2D array (list of lists)\n",
    "data_2d_array = subset_df.values.tolist()\n",
    "\n",
    "# Print the 2D array\n",
    "print(\"Extracted data as 2D array:\")\n",
    "print(data_2d_array)"
   ]
  }
 ],
 "metadata": {
  "kernelspec": {
   "display_name": "Python 3",
   "language": "python",
   "name": "python3"
  },
  "language_info": {
   "codemirror_mode": {
    "name": "ipython",
    "version": 3
   },
   "file_extension": ".py",
   "mimetype": "text/x-python",
   "name": "python",
   "nbconvert_exporter": "python",
   "pygments_lexer": "ipython3",
   "version": "3.12.4"
  }
 },
 "nbformat": 4,
 "nbformat_minor": 2
}
