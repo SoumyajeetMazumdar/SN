{
 "cells": [
  {
   "cell_type": "code",
   "execution_count": 1,
   "metadata": {},
   "outputs": [],
   "source": [
    "import numpy as np\n",
    "import matplotlib.pyplot as plt\n",
    "\n"
   ]
  },
  {
   "cell_type": "code",
   "execution_count": 2,
   "metadata": {},
   "outputs": [
    {
     "data": {
      "text/plain": [
       "(5, 7)"
      ]
     },
     "execution_count": 2,
     "metadata": {},
     "output_type": "execute_result"
    }
   ],
   "source": [
    "# extraction of data from lab book, except the header file (in string)\n",
    "labbookdata = np.loadtxt(\"./Lab Data/Lens Potential Choice 37-40.txt\", delimiter='\\t', skiprows=1, converters={5: lambda s: float(s.strip(b'%')) / 100})\n",
    "\n",
    "labbookdata.shape\n"
   ]
  },
  {
   "cell_type": "code",
   "execution_count": 3,
   "metadata": {},
   "outputs": [],
   "source": [
    "# strips all of the text parts and returns only the numbers for further use\n",
    "# meaning of the numbers present in the text part already\n",
    "def spectroParamsExtract(filepath):\n",
    "    # Read the entire file into a single string\n",
    "    with open(filepath, 'r') as file:\n",
    "        file_contents = file.read()\n",
    "        \n",
    "    file_contents = file_contents.split(\"\\n\") # separating the number and text into 2 cells (string)\n",
    "\n",
    "    file_contents = file_contents[0] # taking only the numbers part\n",
    "    file_contents = file_contents.split() # splitting the numbers to a string array\n",
    "\n",
    "    spectrometerData = np.array([float(num) for num in file_contents]) \n",
    "    # converting string array to number array\n",
    "\n",
    "    return spectrometerData # exporting the number array"
   ]
  },
  {
   "cell_type": "code",
   "execution_count": 4,
   "metadata": {},
   "outputs": [
    {
     "ename": "SyntaxError",
     "evalue": "unterminated f-string literal (detected at line 29) (2631202333.py, line 29)",
     "output_type": "error",
     "traceback": [
      "\u001b[1;36m  Cell \u001b[1;32mIn[4], line 29\u001b[1;36m\u001b[0m\n\u001b[1;33m    vgradient = f\"{(int)(labbookdata[kk][1])} {(int)(labbookdata[k][2])}\u001b[0m\n\u001b[1;37m                ^\u001b[0m\n\u001b[1;31mSyntaxError\u001b[0m\u001b[1;31m:\u001b[0m unterminated f-string literal (detected at line 29)\n"
     ]
    }
   ],
   "source": [
    "from matplotlib.backends.backend_pdf import PdfPages\n",
    "\n",
    "with PdfPages(\"Day1_LensPotentialGraphs.pdf\") as pdf:\n",
    "    file_array = [31, 37, 38, 39, 40] # these files need to be exported\n",
    "    k = 0 # dummy index, traverses the voltage gradient data (from separate file, accessed above)\n",
    "    \n",
    "    for i in file_array: \n",
    "        # spectroParamFile : contains the spectroscope parameters/settings (ex: laser iterations)\n",
    "        # datafile : contains the actual data captured by the spectroscope (output signal)\n",
    "        \n",
    "        spectroParamFile = f\"./Lab Data/Data_240619/rdm24-06-19_{i}.txt\"\n",
    "        datafile = f'./Lab Data/Data_240619/24-06-19_{i}_ch2.txt'\n",
    "        \n",
    "        # getting the spectrometer settings out\n",
    "        spectrometerParameters = spectroParamsExtract(spectroParamFile)\n",
    "        \n",
    "        #extracting data from the file into a numpy multidimensional array\n",
    "        data = np.loadtxt(datafile, delimiter=' ');\n",
    "        \n",
    "        # seperating the output signal data into x and y parts\n",
    "        timeDelay = data[:, 0]\n",
    "        intensity = data[:, 1]\n",
    "        \n",
    "        # plotting the data\n",
    "        plt.plot(timeDelay,intensity, label=\"GAS DETAILS\")\n",
    "        plt.xlabel(\"Time Delay (in micro-s)\", fontsize=8)\n",
    "        plt.ylabel(\"Signal Intensity - Detector (mV) \", fontsize=8)\n",
    "        \n",
    "        vgradient = f\"{(int)(labbookdata[k][1])} {(int)(labbookdata[k][2])} \n",
    "        {(int)(labbookdata[k][3])} {(int)(labbookdata[k][4])}\"\n",
    "        k+=1\n",
    "        \n",
    "        plt.title(f\"Laser Iterations {spectrometerParameters[0]}; Voltage Gradient : \"+vgradient, fontsize=8)\n",
    "        plt.suptitle(f\"File #{i}\", fontsize=12)\n",
    "        \n",
    "        pdf.savefig()\n",
    "        plt.close()\n",
    "        "
   ]
  }
 ],
 "metadata": {
  "kernelspec": {
   "display_name": "Python 3",
   "language": "python",
   "name": "python3"
  },
  "language_info": {
   "codemirror_mode": {
    "name": "ipython",
    "version": 3
   },
   "file_extension": ".py",
   "mimetype": "text/x-python",
   "name": "python",
   "nbconvert_exporter": "python",
   "pygments_lexer": "ipython3",
   "version": "3.12.4"
  }
 },
 "nbformat": 4,
 "nbformat_minor": 2
}
