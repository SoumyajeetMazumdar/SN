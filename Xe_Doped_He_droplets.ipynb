{
 "cells": [
  {
   "cell_type": "code",
   "execution_count": 18,
   "metadata": {},
   "outputs": [
    {
     "data": {
      "text/plain": [
       "[[6.0, 6000, 3500, 0, 0, 0.05],\n",
       " [7.0, 6000, 3500, 0, 0, 0.05],\n",
       " [8.0, 6000, 3500, 0, 0, 0.02],\n",
       " [9.0, 6000, 3500, 0, 0, 0.03],\n",
       " [10.0, 6000, 3500, 0, 0, 0.03],\n",
       " [11.0, 6000, 3500, 0, 0, 0.02],\n",
       " [12.0, 6000, 3500, 0, 0, 0.025],\n",
       " [13.0, 6000, 3500, 0, 0, 0.025],\n",
       " [14.0, 6000, 3500, 0, 0, 0.05],\n",
       " [15.0, 6000, 3500, 0, 0, 0.075],\n",
       " [16.0, 6000, 3500, 0, 0, 0.075],\n",
       " [17.0, 6000, 3500, 0, 0, 0.1],\n",
       " [18.0, 6000, 3500, 0, 0, 0.03],\n",
       " [19.0, 6000, 3500, 0, 0, 0.03]]"
      ]
     },
     "execution_count": 18,
     "metadata": {},
     "output_type": "execute_result"
    }
   ],
   "source": [
    "import pandas as pd, openpyxl as op\n",
    "\n",
    "# Convert Excel-style range (e.g., 'A1:B2') to a pair of index tuples (start_row, start_col, end_row, end_col)\n",
    "def excel_range_to_indices(range_str):\n",
    "    start_cell, end_cell = range_str.split(':')\n",
    "    start_row, start_col = op.utils.cell.coordinate_to_tuple(start_cell)\n",
    "    end_row, end_col = op.utils.cell.coordinate_to_tuple(end_cell)\n",
    "    return start_row-1, start_col-1, end_row-1, end_col-1\n",
    "\n",
    "def returnDataFromExcel(excel_range):\n",
    "    excel_file = pd.ExcelFile(\"./Lab Data/sn excel sheet.xlsx\")\n",
    "    df = pd.read_excel(excel_file, sheet_name='Main')\n",
    "\n",
    "    start_row, start_col, end_row, end_col = excel_range_to_indices(excel_range)\n",
    "\n",
    "    subset_df = df.iloc[start_row:end_row+1, start_col:end_col+1]\n",
    "    data_2d_array = subset_df.values.tolist()\n",
    "    return data_2d_array\n",
    "\n",
    "returnDataFromExcel(excel_range = 'C60:H73')\n"
   ]
  },
  {
   "cell_type": "code",
   "execution_count": 19,
   "metadata": {},
   "outputs": [
    {
     "data": {
      "text/plain": [
       "[6, 7, 8, 9, 10, 11, 12, 13, 14, 15, 16, 17, 18, 19]"
      ]
     },
     "execution_count": 19,
     "metadata": {},
     "output_type": "execute_result"
    }
   ],
   "source": [
    "import numpy as np, matplotlib.pyplot as plt\n",
    "\n",
    "\n",
    "labbookdata = np.array(returnDataFromExcel(\"C60:H73\"))\n",
    "\n",
    "\n",
    "\n",
    "\n",
    "def spectroParamsExtract(filepath):\n",
    "    \n",
    "    with open(filepath, 'r') as file:\n",
    "        file_contents = file.read()\n",
    "        \n",
    "    file_contents = file_contents.split(\"\\n\") \n",
    "    file_contents = file_contents[0] \n",
    "    file_contents = file_contents.split() \n",
    "\n",
    "    spectrometerData = np.array([float(num) for num in file_contents]) \n",
    "    \n",
    "    return spectrometerData # exporting the number array\n",
    "\n",
    "\n",
    "filearray = labbookdata[:,0] # file indices of interest here\n",
    "filearray = [(int)(i) for i in filearray]\n",
    "filearray"
   ]
  },
  {
   "cell_type": "code",
   "execution_count": 20,
   "metadata": {},
   "outputs": [],
   "source": [
    "\n",
    "\n",
    "from matplotlib.backends.backend_pdf import PdfPages\n",
    "with PdfPages(\"Day2_Xe_Ne_plots.pdf\") as pdf:\n",
    "    \n",
    "    k = 0 \n",
    "    \n",
    "    for i in filearray: \n",
    "        spectroParamFile = f\"./Lab Data/Data_240619/rdm24-06-19_{i}.txt\"\n",
    "        datafile = f'./Lab Data/Data_240619/24-06-19_{i}_ch2.txt'\n",
    "        \n",
    "\n",
    "        spectrometerParameters = spectroParamsExtract(spectroParamFile)\n",
    "        \n",
    "        data = np.loadtxt(datafile, delimiter=' ');\n",
    "        timeDelay = data[:, 0]\n",
    "        intensity = data[:, 1]\n",
    "        \n",
    "        vgradient = f\"6000 3500 0 -1750\"\n",
    "        \n",
    "        # plotting the data\n",
    "        plt.plot(timeDelay,intensity, label=f\"power={labbookdata[k][5]*100}%\", linewidth = 0.2, color=\"orange\")\n",
    "        plt.xlabel(\"Time Delay (in micro-s)\", fontsize=8)\n",
    "        plt.ylabel(\"Signal Intensity - Detector (mV) \", fontsize=8)\n",
    "        plt.legend()\n",
    "        \n",
    "        k+=1\n",
    "        \n",
    "        plt.title(f\"Laser Iterations {spectrometerParameters[0]}; Voltage Gradient : \"+vgradient, fontsize=8)\n",
    "        plt.suptitle(f\"File #{i}; Xe doped He droplets\", fontsize=12)\n",
    "        \n",
    "        pdf.savefig()\n",
    "        plt.close()\n",
    "        "
   ]
  }
 ],
 "metadata": {
  "kernelspec": {
   "display_name": "Python 3",
   "language": "python",
   "name": "python3"
  },
  "language_info": {
   "codemirror_mode": {
    "name": "ipython",
    "version": 3
   },
   "file_extension": ".py",
   "mimetype": "text/x-python",
   "name": "python",
   "nbconvert_exporter": "python",
   "pygments_lexer": "ipython3",
   "version": "3.12.4"
  }
 },
 "nbformat": 4,
 "nbformat_minor": 2
}
