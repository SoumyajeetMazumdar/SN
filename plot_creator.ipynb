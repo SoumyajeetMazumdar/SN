{
 "cells": [
  {
   "cell_type": "code",
   "execution_count": 13,
   "metadata": {},
   "outputs": [],
   "source": [
    "import numpy as np\n",
    "import matplotlib.pyplot as plt"
   ]
  },
  {
   "cell_type": "code",
   "execution_count": 14,
   "metadata": {},
   "outputs": [
    {
     "data": {
      "text/plain": [
       "(array([[ 2.40e+01,  6.00e+03,  0.00e+00,  0.00e+00, -1.75e+03,  4.00e-02,\n",
       "          5.00e-07],\n",
       "        [ 2.50e+01,  6.00e+03,  5.00e+02,  0.00e+00, -1.75e+03,  4.00e-02,\n",
       "          5.00e-07],\n",
       "        [ 2.60e+01,  6.00e+03,  1.00e+03,  0.00e+00, -1.75e+03,  4.00e-02,\n",
       "          5.00e-07],\n",
       "        [ 2.70e+01,  6.00e+03,  1.50e+03,  0.00e+00, -1.75e+03,  4.00e-02,\n",
       "          5.00e-07],\n",
       "        [ 2.80e+01,  6.00e+03,  2.00e+03,  0.00e+00, -1.75e+03,  4.00e-02,\n",
       "          5.00e-07],\n",
       "        [ 2.90e+01,  6.00e+03,  2.50e+03,  0.00e+00, -1.75e+03,  4.00e-02,\n",
       "          5.00e-07],\n",
       "        [ 3.00e+01,  6.00e+03,  3.00e+03,  0.00e+00, -1.75e+03,  4.00e-02,\n",
       "          5.00e-07],\n",
       "        [ 3.10e+01,  6.00e+03,  3.50e+03,  0.00e+00, -1.75e+03,  4.00e-02,\n",
       "          5.00e-07],\n",
       "        [ 3.20e+01,  6.00e+03,  4.00e+03,  0.00e+00, -1.75e+03,  4.00e-02,\n",
       "          5.00e-07],\n",
       "        [ 3.30e+01,  6.00e+03,  4.50e+03,  0.00e+00, -1.75e+03,  4.00e-02,\n",
       "          5.00e-07],\n",
       "        [ 3.40e+01,  6.00e+03,  5.00e+03,  0.00e+00, -1.75e+03,  4.00e-02,\n",
       "          5.00e-07],\n",
       "        [ 3.50e+01,  6.00e+03,  5.50e+03,  0.00e+00, -1.75e+03,  4.00e-02,\n",
       "          5.00e-07],\n",
       "        [ 3.60e+01,  6.00e+03,  6.00e+03,  0.00e+00, -1.75e+03,  4.00e-02,\n",
       "          5.00e-07]]),\n",
       " (13, 7))"
      ]
     },
     "execution_count": 14,
     "metadata": {},
     "output_type": "execute_result"
    }
   ],
   "source": [
    "# extracting details to be put on the graphs (from LAB BOOK)\n",
    "\n",
    "# with open(\"./Lab Data/Extractor Potential Choice 24-37.txt\", 'r') as file:\n",
    "#         labbookdata = file.read()\n",
    "\n",
    "# labbookdata\n",
    "\n",
    "# extracting the files of interest here into a sepeparate array for further use\n",
    "file_path = \"./Lab Data/Extractor Potential Choice 24-36.txt\"\n",
    "# Load the data directly into a 2D NumPy array\n",
    "labbookdata = np.loadtxt(file_path, delimiter='\\t', skiprows=1, converters={5: lambda s: float(s.strip(b'%')) / 100})\n",
    "\n",
    "# Display the NumPy array\n",
    "labbookdata, labbookdata.shape\n",
    "\n",
    "# print(f\"{(int)(labbookdata[0][1])} {(int)(labbookdata[0][2])} {(int)(labbookdata[0][3])} {(int)(labbookdata[0][4])}\")\n"
   ]
  },
  {
   "cell_type": "code",
   "execution_count": 15,
   "metadata": {},
   "outputs": [],
   "source": [
    "def spectroParamsExtract(filepath):\n",
    "    # Read the entire file into a single string\n",
    "    with open(filepath, 'r') as file:\n",
    "        file_contents = file.read()\n",
    "\n",
    "    # Print the file contents\n",
    "    print(file_contents)\n",
    "    file_contents = file_contents.split(\"\\n\") # separating the number and text into cells\n",
    "\n",
    "    file_contents = file_contents[0] # taking only the numbers part\n",
    "    file_contents = file_contents.split()\n",
    "\n",
    "    spectrometerData = np.array([float(num) for num in file_contents])\n",
    "\n",
    "    return spectrometerData"
   ]
  },
  {
   "cell_type": "code",
   "execution_count": 16,
   "metadata": {},
   "outputs": [],
   "source": [
    "def spectrumPlots(filepath, laseriterations):\n",
    "    data = np.loadtxt(filepath, delimiter=' ')\n",
    "    \n",
    "    timeDelay = data[:, 0]\n",
    "    intensity = data[:, 1]\n",
    "    \n",
    "    plt.plot(timeDelay, intensity)\n",
    "    plt.xlabel(\"Time Delay (in micro-s)\")\n",
    "    plt.ylabel(\"Signal Intensity - Detector (mV) \")\n",
    "    plt.title(f\"Laser Iterations {laseriterations}\")"
   ]
  },
  {
   "cell_type": "code",
   "execution_count": 17,
   "metadata": {},
   "outputs": [],
   "source": [
    "# for i in range (1):\n",
    "#     spectroParamFile = f\"./Lab Data/Data_240619/rdm24-06-19_{i}.txt\"\n",
    "#     datafile = f'./Lab Data/Data_240619/24-06-19_{i}_ch2.txt'\n",
    "    \n",
    "#     spectroData = spectroParamsExtract(spectroParamFile)\n",
    "#     spectrumPlots(datafile, spectroData[0])"
   ]
  },
  {
   "cell_type": "code",
   "execution_count": 18,
   "metadata": {},
   "outputs": [
    {
     "name": "stdout",
     "output_type": "stream",
     "text": [
      "60000 800 0.0002 0 5 -3 0 -10 0 1500 0 180 \n",
      "von links nach rechts: Shots, Wavelength [nm],resolution[µs], start time [µs], time width [µs], Discriminator [mV, ch0..4], TrgLevel [mV], Laser Sync /mus, QSwitch/mus\n",
      "60000 800 0.0002 0 5 -3 0 -10 0 1500 0 180 \n",
      "von links nach rechts: Shots, Wavelength [nm],resolution[µs], start time [µs], time width [µs], Discriminator [mV, ch0..4], TrgLevel [mV], Laser Sync /mus, QSwitch/mus\n",
      "60000 800 0.0002 0 5 -3 0 -10 0 1500 0 180 \n",
      "von links nach rechts: Shots, Wavelength [nm],resolution[µs], start time [µs], time width [µs], Discriminator [mV, ch0..4], TrgLevel [mV], Laser Sync /mus, QSwitch/mus\n",
      "60000 800 0.0002 0 5 -3 0 -10 0 1500 0 180 \n",
      "von links nach rechts: Shots, Wavelength [nm],resolution[µs], start time [µs], time width [µs], Discriminator [mV, ch0..4], TrgLevel [mV], Laser Sync /mus, QSwitch/mus\n",
      "60000 800 0.0002 0 5 -3 0 -10 0 1500 0 180 \n",
      "von links nach rechts: Shots, Wavelength [nm],resolution[µs], start time [µs], time width [µs], Discriminator [mV, ch0..4], TrgLevel [mV], Laser Sync /mus, QSwitch/mus\n",
      "60000 800 0.0002 0 5 -3 0 -10 0 1500 0 180 \n",
      "von links nach rechts: Shots, Wavelength [nm],resolution[µs], start time [µs], time width [µs], Discriminator [mV, ch0..4], TrgLevel [mV], Laser Sync /mus, QSwitch/mus\n",
      "60000 800 0.0002 0 5 -3 0 -10 0 1500 0 180 \n",
      "von links nach rechts: Shots, Wavelength [nm],resolution[µs], start time [µs], time width [µs], Discriminator [mV, ch0..4], TrgLevel [mV], Laser Sync /mus, QSwitch/mus\n",
      "60000 800 0.0002 0 5 -3 0 -10 0 1500 0 180 \n",
      "von links nach rechts: Shots, Wavelength [nm],resolution[µs], start time [µs], time width [µs], Discriminator [mV, ch0..4], TrgLevel [mV], Laser Sync /mus, QSwitch/mus\n",
      "60000 800 0.0002 0 5 -3 0 -10 0 1500 0 180 \n",
      "von links nach rechts: Shots, Wavelength [nm],resolution[µs], start time [µs], time width [µs], Discriminator [mV, ch0..4], TrgLevel [mV], Laser Sync /mus, QSwitch/mus\n",
      "60000 800 0.0002 0 5 -3 0 -10 0 1500 0 180 \n",
      "von links nach rechts: Shots, Wavelength [nm],resolution[µs], start time [µs], time width [µs], Discriminator [mV, ch0..4], TrgLevel [mV], Laser Sync /mus, QSwitch/mus\n",
      "60000 800 0.0002 0 5 -3 0 -10 0 1500 0 180 \n",
      "von links nach rechts: Shots, Wavelength [nm],resolution[µs], start time [µs], time width [µs], Discriminator [mV, ch0..4], TrgLevel [mV], Laser Sync /mus, QSwitch/mus\n",
      "60000 800 0.0002 0 5 -3 0 -10 0 1500 0 180 \n",
      "von links nach rechts: Shots, Wavelength [nm],resolution[µs], start time [µs], time width [µs], Discriminator [mV, ch0..4], TrgLevel [mV], Laser Sync /mus, QSwitch/mus\n",
      "60000 800 0.0002 0 5 -3 0 -10 0 1500 0 180 \n",
      "von links nach rechts: Shots, Wavelength [nm],resolution[µs], start time [µs], time width [µs], Discriminator [mV, ch0..4], TrgLevel [mV], Laser Sync /mus, QSwitch/mus\n"
     ]
    }
   ],
   "source": [
    "from matplotlib.backends.backend_pdf import PdfPages\n",
    "\n",
    "with PdfPages('Day1_ExtractorPotentialGraphs.pdf') as pdf:\n",
    "    for i in range (24, 36+1):\n",
    "        spectroParamFile = f\"./Lab Data/Data_240619/rdm24-06-19_{i}.txt\"\n",
    "        datafile = f'./Lab Data/Data_240619/24-06-19_{i}_ch2.txt'\n",
    "        \n",
    "        spectroData = spectroParamsExtract(spectroParamFile)\n",
    "        # spectrumPlots(datafile, spectroData[0])\n",
    "        \n",
    "        \n",
    "        data = np.loadtxt(datafile, delimiter=' ')\n",
    "    \n",
    "        timeDelay = data[:, 0]\n",
    "        intensity = data[:, 1]\n",
    "    \n",
    "        plt.plot(timeDelay, intensity, label = f\"METHANE, power = {labbookdata[i-24][5]*100}%\")\n",
    "        plt.xlabel(\"Time Delay (in micro-s)\")\n",
    "        plt.ylabel(\"Signal Intensity - Detector (mV) \")\n",
    "        plt.legend()\n",
    "        \n",
    "        vgradient = f\"{(int)(labbookdata[i-24][1])} {(int)(labbookdata[i-24][2])} {(int)(labbookdata[i-24][3])} {(int)(labbookdata[i-24][4])}\"\n",
    "        # plt.title(f\"file #{i}\")\n",
    "        plt.title(f\"Laser Iterations {spectroData[0]}; Voltage Gradient : \"+vgradient, fontsize=6)\n",
    "        plt.suptitle(f\"File #{i}; Variation of Extractor Potential\", fontsize=12)\n",
    "        \n",
    "        \n",
    "        \n",
    "        pdf.savefig()\n",
    "        plt.close()\n",
    "        \n",
    "        \n",
    "        \n",
    "    "
   ]
  },
  {
   "cell_type": "code",
   "execution_count": null,
   "metadata": {},
   "outputs": [],
   "source": []
  }
 ],
 "metadata": {
  "kernelspec": {
   "display_name": "Python 3",
   "language": "python",
   "name": "python3"
  },
  "language_info": {
   "codemirror_mode": {
    "name": "ipython",
    "version": 3
   },
   "file_extension": ".py",
   "mimetype": "text/x-python",
   "name": "python",
   "nbconvert_exporter": "python",
   "pygments_lexer": "ipython3",
   "version": "3.12.4"
  }
 },
 "nbformat": 4,
 "nbformat_minor": 2
}
