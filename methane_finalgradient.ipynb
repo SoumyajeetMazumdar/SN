{
 "cells": [
  {
   "cell_type": "code",
   "execution_count": 8,
   "metadata": {},
   "outputs": [],
   "source": [
    "# comparison of methane spectrum at different powers"
   ]
  },
  {
   "cell_type": "code",
   "execution_count": 9,
   "metadata": {},
   "outputs": [],
   "source": [
    "import numpy as np, matplotlib.pyplot as plt\n",
    "\n",
    "\n",
    "filearray = [31, 41] # file indices of interest here\n",
    "\n",
    "labbookdata = np.array(\n",
    "    [\n",
    "        [31, 6000, 3500, 0, -1750, 0.04, 5e-7], \n",
    "        [41, 6000, 3500, 0, -1750, 0.20, 6.9e-7]\n",
    "    ])\n",
    "\n",
    "def spectroParamsExtract(filepath):\n",
    "    \n",
    "    with open(filepath, 'r') as file:\n",
    "        file_contents = file.read()\n",
    "        \n",
    "    file_contents = file_contents.split(\"\\n\") \n",
    "    file_contents = file_contents[0] \n",
    "    file_contents = file_contents.split() \n",
    "\n",
    "    spectrometerData = np.array([float(num) for num in file_contents]) \n",
    "    \n",
    "    return spectrometerData # exporting the number array\n",
    "\n",
    "from matplotlib.backends.backend_pdf import PdfPages\n",
    "with PdfPages(\"Day1_MethaneComparisonGraphs.pdf\") as pdf:\n",
    "    \n",
    "    k = 0 \n",
    "    \n",
    "    for i in filearray: \n",
    "        spectroParamFile = f\"./Lab Data/Data_240619/rdm24-06-19_{i}.txt\"\n",
    "        datafile = f'./Lab Data/Data_240619/24-06-19_{i}_ch2.txt'\n",
    "        \n",
    "\n",
    "        spectrometerParameters = spectroParamsExtract(spectroParamFile)\n",
    "        \n",
    "        data = np.loadtxt(datafile, delimiter=' ');\n",
    "        timeDelay = data[:, 0]\n",
    "        intensity = data[:, 1]\n",
    "        \n",
    "        # plotting the data\n",
    "        plt.plot(timeDelay,intensity, label=f\"METHANE, power at {labbookdata[k][5]*100}%\", linewidth = 0.1, color=\"green\")\n",
    "        plt.xlabel(\"Time Delay (in micro-s)\", fontsize=8)\n",
    "        plt.ylabel(\"Signal Intensity - Detector (mV) \", fontsize=8)\n",
    "        plt.legend()\n",
    "        \n",
    "        vgradient = f\"{(int)(labbookdata[k][1])} {(int)(labbookdata[k][2])} {(int)(labbookdata[k][3])} {(int)(labbookdata[k][4])}\"\n",
    "        k+=1\n",
    "        \n",
    "        plt.title(f\"Laser Iterations {spectrometerParameters[0]}; Voltage Gradient : \"+vgradient, fontsize=8)\n",
    "        plt.suptitle(f\"File #{i}; Comparison of Methane Spectrum and Laser Power\", fontsize=12)\n",
    "        \n",
    "        pdf.savefig()\n",
    "        plt.close()\n",
    "        "
   ]
  }
 ],
 "metadata": {
  "kernelspec": {
   "display_name": "Python 3",
   "language": "python",
   "name": "python3"
  },
  "language_info": {
   "codemirror_mode": {
    "name": "ipython",
    "version": 3
   },
   "file_extension": ".py",
   "mimetype": "text/x-python",
   "name": "python",
   "nbconvert_exporter": "python",
   "pygments_lexer": "ipython3",
   "version": "3.12.4"
  }
 },
 "nbformat": 4,
 "nbformat_minor": 2
}
